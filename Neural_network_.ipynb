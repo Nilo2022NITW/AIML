{
  "nbformat": 4,
  "nbformat_minor": 0,
  "metadata": {
    "colab": {
      "provenance": [],
      "authorship_tag": "ABX9TyP+VIYCgHUGmT+k7IMBT8sw",
      "include_colab_link": true
    },
    "kernelspec": {
      "name": "python3",
      "display_name": "Python 3"
    },
    "language_info": {
      "name": "python"
    }
  },
  "cells": [
    {
      "cell_type": "markdown",
      "metadata": {
        "id": "view-in-github",
        "colab_type": "text"
      },
      "source": [
        "<a href=\"https://colab.research.google.com/github/Nilvalox/AIML/blob/main/Neural_network_.ipynb\" target=\"_parent\"><img src=\"https://colab.research.google.com/assets/colab-badge.svg\" alt=\"Open In Colab\"/></a>"
      ]
    },
    {
      "cell_type": "code",
      "execution_count": null,
      "metadata": {
        "id": "gPdqshLrXrm2"
      },
      "outputs": [],
      "source": [
        "class Model:\n",
        "    def __init__(self,X, y,hl, lr, niter, reg,nclass):\n",
        "        #hl=hidden layer size, lr=learning rate, niter=iterations of gradient descent, reg= regularization rate,nclass, number of classes in y\n",
        "        self.X=X\n",
        "        self.m,self.n=X.shape\n",
        "        self.y=y\n",
        "        self.hl=hl\n",
        "        self.lr=lr\n",
        "        self.niter=niter\n",
        "        self.reg=reg\n",
        "        self.nc=nclass\n",
        "\n",
        "    def sigmoid(self, z):\n",
        "        return 1/(1+np.exp(-z))\n",
        "\n",
        "    def sigmoidGradient(self,z):\n",
        "        return self.sigmoid(z)*(1-self.sigmoid(z))\n",
        "\n",
        "    def hyp(self):\n",
        "        #lAYER1 X\n",
        "        self.X=np.concatenate((np.ones([self.m,1]), self.X), axis=1)\n",
        "        self.z1=self.X @ self.Theta1.T\n",
        "        self.a1=self.sigmoid(self.z1)\n",
        "        self.a1=np.concatenate((np.ones([self.m,1]), self.a1), axis=1)\n",
        "        self.z2=self.a1 @ self.Theta2.T\n",
        "        self.h=self.sigmoid(self.z2)\n",
        ""
      ]
    },
    {
      "cell_type": "code",
      "source": [
        " def cost(self):\n",
        "        self.J = 1/(self.m) * ( np.sum(np.sum(-1*self.y* np.log(self.h) -1*(1-self.y)* np.log(1-self.h))))\n",
        "        self.J += self.reg/(2*self.m)*(np.sum(np.sum(np.square(self.Theta1[:,1:]))) + np.sum(np.sum(np.square(self.Theta2[:,1:]))))\n",
        "\n",
        "    def computeGradient(self):\n",
        "        t1=self.Theta1\n",
        "        t2=self.Theta2\n",
        "        t1[:,0]=0\n",
        "        t2[:,0]=0\n",
        "        self.del3=self.h-self.y;\n",
        "        self.del2= (self.del3@self.Theta2[:,1:]) *self.sigmoidGradient(self.z1)\n",
        "        self.Theta1_grad=(self.del2.T@self.a1)/self.m+self.reg/self.m * t1\n",
        "        self.Theta2_grad=(self.del3.T@self.a2)/self.m+self.rig/self.m*t2\n",
        "\n",
        ""
      ],
      "metadata": {
        "id": "L3Jql1-iXwXg"
      },
      "execution_count": null,
      "outputs": []
    },
    {
      "cell_type": "code",
      "source": [
        "def gradient_descent(self):\n",
        "        for i in range(self.niter):\n",
        "            self.hyp()\n",
        "            self.cost()\n",
        "            self.computeGradient()\n",
        "            self.Theta1=self.Theta1 - self.lr/self.m*self.Theta1_grad\n",
        "            self.Theta2=self.Theta2 - self.lr/self.m*self.Theta2_grad\n",
        "            if i%10==0:\n",
        "                print(f\"iteration {i}:\\n{self.theta} has cost {cost}\")\n",
        "\n",
        "    def train(self):\n",
        "        self.Theta1= np.random.rand(self.hl, self.n+1)\n",
        "        self.Theta2=np.random.rand(self.nc,self.hl+1)\n",
        "        self.gradient_descent()"
      ],
      "metadata": {
        "id": "lLEDU9UGXzVu"
      },
      "execution_count": null,
      "outputs": []
    },
    {
      "cell_type": "code",
      "source": [],
      "metadata": {
        "id": "QryiFOCSX1LM"
      },
      "execution_count": null,
      "outputs": []
    }
  ]
}