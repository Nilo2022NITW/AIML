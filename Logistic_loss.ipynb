{
  "nbformat": 4,
  "nbformat_minor": 0,
  "metadata": {
    "colab": {
      "provenance": [],
      "authorship_tag": "ABX9TyPg3lFLP6qaxF5pnCFrgHwM",
      "include_colab_link": true
    },
    "kernelspec": {
      "name": "python3",
      "display_name": "Python 3"
    },
    "language_info": {
      "name": "python"
    }
  },
  "cells": [
    {
      "cell_type": "markdown",
      "metadata": {
        "id": "view-in-github",
        "colab_type": "text"
      },
      "source": [
        "<a href=\"https://colab.research.google.com/github/Nilvalox/AIML/blob/main/Logistic_loss.ipynb\" target=\"_parent\"><img src=\"https://colab.research.google.com/assets/colab-badge.svg\" alt=\"Open In Colab\"/></a>"
      ]
    },
    {
      "cell_type": "code",
      "execution_count": null,
      "metadata": {
        "id": "Pm1OaeSIwmgN"
      },
      "outputs": [],
      "source": [
        "import numpy as np\n",
        "%matplotlib widget\n",
        "import matplotlib.pyplot as plt\n",
        "from plt_logistic_loss import  plt_logistic_cost, plt_two_logistic_loss_curves, plt_simple_example\n",
        "from plt_logistic_loss import soup_bowl, plt_logistic_squared_error\n",
        "plt.style.use('./deeplearning.mplstyle')"
      ]
    },
    {
      "cell_type": "markdown",
      "source": [
        "Recall for Linear Regression we have used the squared error cost function: The equation for the squared error cost with one variable is:\n",
        "𝐽(𝑤,𝑏)=12𝑚∑𝑖=0𝑚−1(𝑓𝑤,𝑏(𝑥(𝑖))−𝑦(𝑖))2(1)\n",
        "where\n",
        "𝑓𝑤,𝑏(𝑥(𝑖))=𝑤𝑥(𝑖)+𝑏(2)\n",
        "Recall, the squared error cost had the nice property that following the derivative of the cost leads to the minimum."
      ],
      "metadata": {
        "id": "DvOEeZej0yjD"
      }
    },
    {
      "cell_type": "code",
      "source": [
        "soup_bowl()"
      ],
      "metadata": {
        "id": "24cmYfT40zKU"
      },
      "execution_count": null,
      "outputs": []
    },
    {
      "cell_type": "markdown",
      "source": [
        "This cost function worked well for linear regression, it is natural to consider it for logistic regression as well. However, as the slide above points out,  𝑓𝑤𝑏(𝑥)\n",
        "  now has a non-linear component, the sigmoid function:  𝑓𝑤,𝑏(𝑥(𝑖))=𝑠𝑖𝑔𝑚𝑜𝑖𝑑(𝑤𝑥(𝑖)+𝑏)\n",
        " . Let's try a squared error cost on the example from an earlier lab, now including the sigmoid.\n",
        "\n",
        "Here is our training data:"
      ],
      "metadata": {
        "id": "PRU0BrI30250"
      }
    },
    {
      "cell_type": "code",
      "source": [
        "x_train = np.array([0., 1, 2, 3, 4, 5],dtype=np.longdouble)\n",
        "y_train = np.array([0,  0, 0, 1, 1, 1],dtype=np.longdouble)\n",
        "plt_simple_example(x_train, y_train)"
      ],
      "metadata": {
        "id": "1PyiDZJX01VT"
      },
      "execution_count": null,
      "outputs": []
    },
    {
      "cell_type": "code",
      "source": [
        "plt.close('all')\n",
        "plt_logistic_squared_error(x_train,y_train)\n",
        "plt.show()"
      ],
      "metadata": {
        "id": "4XvhE28K05y3"
      },
      "execution_count": null,
      "outputs": []
    },
    {
      "cell_type": "code",
      "source": [
        "plt_two_logistic_loss_curves()"
      ],
      "metadata": {
        "id": "c2hlbhmX07q1"
      },
      "execution_count": null,
      "outputs": []
    },
    {
      "cell_type": "code",
      "source": [
        "plt.close('all')\n",
        "cst = plt_logistic_cost(x_train,y_train)"
      ],
      "metadata": {
        "id": "jA-RF4BG0-on"
      },
      "execution_count": null,
      "outputs": []
    },
    {
      "cell_type": "code",
      "source": [],
      "metadata": {
        "id": "9nptvnEa1Aqh"
      },
      "execution_count": null,
      "outputs": []
    }
  ]
}