{
  "nbformat": 4,
  "nbformat_minor": 0,
  "metadata": {
    "colab": {
      "provenance": [],
      "authorship_tag": "ABX9TyOlAdb4e9He88AfKZfHfNz3",
      "include_colab_link": true
    },
    "kernelspec": {
      "name": "python3",
      "display_name": "Python 3"
    },
    "language_info": {
      "name": "python"
    }
  },
  "cells": [
    {
      "cell_type": "markdown",
      "metadata": {
        "id": "view-in-github",
        "colab_type": "text"
      },
      "source": [
        "<a href=\"https://colab.research.google.com/github/Nilvalox/AIML/blob/main/Sigmoid_and_logistic_regression.ipynb\" target=\"_parent\"><img src=\"https://colab.research.google.com/assets/colab-badge.svg\" alt=\"Open In Colab\"/></a>"
      ]
    },
    {
      "cell_type": "code",
      "execution_count": null,
      "metadata": {
        "id": "YsHRjE-Xq-35"
      },
      "outputs": [],
      "source": [
        "import numpy as np\n",
        "%matplotlib widget\n",
        "import matplotlib.pyplot as plt\n",
        "from plt_one_addpt_onclick import plt_one_addpt_onclick\n",
        "from lab_utils_common import draw_vthresh\n",
        "plt.style.use('./deeplearning.mplstyle')"
      ]
    },
    {
      "cell_type": "markdown",
      "source": [
        "Sigmoid or Logistic Function\n",
        "As discussed in the lecture videos, for a classification task, we can start by using our linear regression model,  𝑓𝐰,𝑏(𝐱(𝑖))=𝐰⋅𝐱(𝑖)+𝑏\n",
        " , to predict  𝑦\n",
        "  given  𝑥\n",
        " .\n",
        "\n",
        "However, we would like the predictions of our classification model to be between 0 and 1 since our output variable  𝑦\n",
        "  is either 0 or 1.\n",
        "This can be accomplished by using a \"sigmoid function\" which maps all input values to values between 0 and 1.\n",
        "Let's implement the sigmoid function and see this for ourselves.\n",
        "\n",
        "Formula for Sigmoid function\n",
        "The formula for a sigmoid function is as follows -\n",
        "\n",
        "𝑔(𝑧)=11+𝑒−𝑧(1)\n",
        "In the case of logistic regression, z (the input to the sigmoid function), is the output of a linear regression model.\n",
        "\n",
        "In the case of a single example,  𝑧\n",
        "  is scalar.\n",
        "in the case of multiple examples,  𝑧\n",
        "  may be a vector consisting of  𝑚\n",
        "  values, one for each example.\n",
        "The implementation of the sigmoid function should cover both of these potential input formats. Let's implement this in Python.\n",
        "NumPy has a function called exp(), which offers a convenient way to calculate the exponential ( 𝑒𝑧\n",
        ") of all elements in the input array (z).\n",
        "\n",
        "It also works with a single number as an input, as shown below."
      ],
      "metadata": {
        "id": "XeV4TOQqrJl5"
      }
    },
    {
      "cell_type": "code",
      "source": [
        "# Input is an array.\n",
        "input_array = np.array([1,2,3])\n",
        "exp_array = np.exp(input_array)\n",
        "\n",
        "print(\"Input to exp:\", input_array)\n",
        "print(\"Output of exp:\", exp_array)\n",
        "\n",
        "# Input is a single number\n",
        "input_val = 1\n",
        "exp_val = np.exp(input_val)\n",
        "\n",
        "print(\"Input to exp:\", input_val)\n",
        "print(\"Output of exp:\", exp_val)"
      ],
      "metadata": {
        "id": "l9r2qlBgrGPM"
      },
      "execution_count": null,
      "outputs": []
    },
    {
      "cell_type": "code",
      "source": [
        "def sigmoid(z):\n",
        "    \"\"\"\n",
        "    Compute the sigmoid of z\n",
        "\n",
        "    Args:\n",
        "        z (ndarray): A scalar, numpy array of any size.\n",
        "\n",
        "    Returns:\n",
        "        g (ndarray): sigmoid(z), with the same shape as z\n",
        "\n",
        "    \"\"\"\n",
        "\n",
        "    g = 1/(1+np.exp(-z))\n",
        "\n",
        "    return g"
      ],
      "metadata": {
        "id": "gYH6RarPrMvs"
      },
      "execution_count": null,
      "outputs": []
    },
    {
      "cell_type": "code",
      "source": [
        "# Generate an array of evenly spaced values between -10 and 10\n",
        "z_tmp = np.arange(-10,11)\n",
        "\n",
        "# Use the function implemented above to get the sigmoid values\n",
        "y = sigmoid(z_tmp)\n",
        "\n",
        "# Code for pretty printing the two arrays next to each other\n",
        "np.set_printoptions(precision=3)\n",
        "print(\"Input (z), Output (sigmoid(z))\")\n",
        "print(np.c_[z_tmp, y])"
      ],
      "metadata": {
        "id": "XZCsc4GarQLu"
      },
      "execution_count": null,
      "outputs": []
    },
    {
      "cell_type": "code",
      "source": [
        "# Plot z vs sigmoid(z)\n",
        "fig,ax = plt.subplots(1,1,figsize=(5,3))\n",
        "ax.plot(z_tmp, y, c=\"b\")\n",
        "\n",
        "ax.set_title(\"Sigmoid function\")\n",
        "ax.set_ylabel('sigmoid(z)')\n",
        "ax.set_xlabel('z')\n",
        "draw_vthresh(ax,0)"
      ],
      "metadata": {
        "id": "NOoiSz8PrSF8"
      },
      "execution_count": null,
      "outputs": []
    },
    {
      "cell_type": "markdown",
      "source": [
        "As you can see, the sigmoid function approaches 0 as z goes to large negative values and approaches 1 as z goes to large positive values.\n",
        "\n",
        "Logistic Regression\n",
        "A logistic regression model applies the sigmoid to the familiar linear regression model as shown below:\n",
        "\n",
        "𝑓𝐰,𝑏(𝐱(𝑖))=𝑔(𝐰⋅𝐱(𝑖)+𝑏)(2)\n",
        "where\n",
        "\n",
        "𝑔(𝑧)=11+𝑒−𝑧(3)\n",
        "Let's apply logistic regression to the categorical data example of tumor classification.\n",
        "First, load the examples and initial values for the parameters."
      ],
      "metadata": {
        "id": "Yff_eyrsrYiK"
      }
    },
    {
      "cell_type": "code",
      "source": [
        "x_train = np.array([0., 1, 2, 3, 4, 5])\n",
        "y_train = np.array([0,  0, 0, 1, 1, 1])\n",
        "\n",
        "w_in = np.zeros((1))\n",
        "b_in = 0"
      ],
      "metadata": {
        "id": "RZx4nIMkrTw2"
      },
      "execution_count": null,
      "outputs": []
    },
    {
      "cell_type": "markdown",
      "source": [
        "Try the following steps:\n",
        "\n",
        "Click on 'Run Logistic Regression' to find the best logistic regression model for the given training data\n",
        "Note the resulting model fits the data quite well.\n",
        "Note, the orange line is ' 𝑧\n",
        " ' or  𝐰⋅𝐱(𝑖)+𝑏\n",
        "  above. It does not match the line in a linear regression model. Further improve these results by applying a threshold.\n",
        "Tick the box on the 'Toggle 0.5 threshold' to show the predictions if a threshold is applied.\n",
        "These predictions look good. The predictions match the data\n",
        "Now, add further data points in the large tumor size range (near 10), and re-run logistic regression.\n",
        "unlike the linear regression model, this model continues to make correct predictions"
      ],
      "metadata": {
        "id": "8_LXkeqMrdH-"
      }
    },
    {
      "cell_type": "code",
      "source": [
        "plt.close('all')\n",
        "addpt = plt_one_addpt_onclick( x_train,y_train, w_in, b_in, logistic=True)"
      ],
      "metadata": {
        "id": "aWTF4wDWra4b"
      },
      "execution_count": null,
      "outputs": []
    }
  ]
}