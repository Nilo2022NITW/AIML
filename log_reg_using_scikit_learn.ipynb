{
  "nbformat": 4,
  "nbformat_minor": 0,
  "metadata": {
    "colab": {
      "provenance": [],
      "authorship_tag": "ABX9TyOmIfF6Fdq8RinBTNlXabUW",
      "include_colab_link": true
    },
    "kernelspec": {
      "name": "python3",
      "display_name": "Python 3"
    },
    "language_info": {
      "name": "python"
    }
  },
  "cells": [
    {
      "cell_type": "markdown",
      "metadata": {
        "id": "view-in-github",
        "colab_type": "text"
      },
      "source": [
        "<a href=\"https://colab.research.google.com/github/Nilvalox/AIML/blob/main/log_reg_using_scikit_learn.ipynb\" target=\"_parent\"><img src=\"https://colab.research.google.com/assets/colab-badge.svg\" alt=\"Open In Colab\"/></a>"
      ]
    },
    {
      "cell_type": "markdown",
      "source": [
        "Ungraded Lab: Logistic Regression using Scikit-Learn"
      ],
      "metadata": {
        "id": "jEnQ2iyFz7GS"
      }
    },
    {
      "cell_type": "markdown",
      "source": [
        "Goals\n",
        "In this lab you will:\n",
        "\n",
        "Train a logistic regression model using scikit-learn."
      ],
      "metadata": {
        "id": "3wP2OmDx0Avb"
      }
    },
    {
      "cell_type": "markdown",
      "source": [
        "Dataset\n",
        "Let's start with the same dataset as before."
      ],
      "metadata": {
        "id": "KAi8B7fM0CfO"
      }
    },
    {
      "cell_type": "code",
      "execution_count": null,
      "metadata": {
        "id": "o8bQ9i8yzqsy"
      },
      "outputs": [],
      "source": [
        "import numpy as np\n",
        "\n",
        "X = np.array([[0.5, 1.5], [1,1], [1.5, 0.5], [3, 0.5], [2, 2], [1, 2.5]])\n",
        "y = np.array([0, 0, 0, 1, 1, 1])"
      ]
    },
    {
      "cell_type": "markdown",
      "source": [
        "Fit the model\n",
        "The code below imports the logistic regression model from scikit-learn. You can fit this model on the training data by calling fit function."
      ],
      "metadata": {
        "id": "5tmVqhnh0Eo0"
      }
    },
    {
      "cell_type": "code",
      "source": [
        "from sklearn.linear_model import LogisticRegression\n",
        "\n",
        "lr_model = LogisticRegression()\n",
        "lr_model.fit(X, y)"
      ],
      "metadata": {
        "id": "qg0oQB_Vzxz6"
      },
      "execution_count": null,
      "outputs": []
    },
    {
      "cell_type": "markdown",
      "source": [
        "Fit the model\n",
        "The code below imports the logistic regression model from scikit-learn. You can fit this model on the training data by calling fit function."
      ],
      "metadata": {
        "id": "lWp3RYC70Jns"
      }
    },
    {
      "cell_type": "code",
      "source": [
        "y_pred = lr_model.predict(X)\n",
        "\n",
        "print(\"Prediction on training set:\", y_pred)"
      ],
      "metadata": {
        "id": "im69OITEz0ZD"
      },
      "execution_count": null,
      "outputs": []
    },
    {
      "cell_type": "markdown",
      "source": [
        "Calculate accuracy\n",
        "You can calculate this accuracy of this model by calling the score function."
      ],
      "metadata": {
        "id": "WdkhAw2E0ME8"
      }
    },
    {
      "cell_type": "code",
      "source": [
        "print(\"Accuracy on training set:\", lr_model.score(X, y))"
      ],
      "metadata": {
        "id": "YAWQ-zmwz1_q"
      },
      "execution_count": null,
      "outputs": []
    },
    {
      "cell_type": "code",
      "source": [],
      "metadata": {
        "id": "THBbeONlz3kJ"
      },
      "execution_count": null,
      "outputs": []
    }
  ]
}