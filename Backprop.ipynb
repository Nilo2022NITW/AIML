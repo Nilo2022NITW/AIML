{
  "cells": [
    {
      "cell_type": "markdown",
      "metadata": {
        "id": "view-in-github",
        "colab_type": "text"
      },
      "source": [
        "<a href=\"https://colab.research.google.com/github/Nilvalox/AIML/blob/main/Backprop.ipynb\" target=\"_parent\"><img src=\"https://colab.research.google.com/assets/colab-badge.svg\" alt=\"Open In Colab\"/></a>"
      ]
    },
    {
      "cell_type": "markdown",
      "metadata": {
        "id": "Cvi6BBPsJ5Bl"
      },
      "source": [
        "# Optional Lab: Back propagation using a computation graph\n",
        "Working through this lab will give you insight into a key algorithm used by most machine learning frameworks. Gradient descent requires the derivative of the cost with respect to each parameter in the network.  Neural networks can have millions or even billions of parameters. The *back propagation* algorithm is used to compute those derivatives. *Computation graphs* are used to simplify the operation. Let's dig into this below."
      ],
      "id": "Cvi6BBPsJ5Bl"
    },
    {
      "cell_type": "code",
      "execution_count": null,
      "metadata": {
        "id": "zreLDM-kJ5Bn"
      },
      "outputs": [],
      "source": [
        "from sympy import *\n",
        "import numpy as np\n",
        "import re\n",
        "%matplotlib widget\n",
        "import matplotlib.pyplot as plt\n",
        "from matplotlib.widgets import TextBox\n",
        "from matplotlib.widgets import Button\n",
        "import ipywidgets as widgets\n",
        "from lab_utils_backprop import *"
      ],
      "id": "zreLDM-kJ5Bn"
    },
    {
      "cell_type": "markdown",
      "metadata": {
        "id": "_R_NtSMFJ5Bn"
      },
      "source": [
        "## Computation Graph\n",
        "A computation graph simplifies the computation of complex derivatives by breaking them into smaller steps. Let's see how this works.\n",
        "\n",
        "Let's calculate the derivative of this slightly complex expression, $J = (2+3w)^2$. We would like to find the derivative of $J$ with respect to $w$ or $\\frac{\\partial J}{\\partial w}$."
      ],
      "id": "_R_NtSMFJ5Bn"
    },
    {
      "cell_type": "code",
      "execution_count": null,
      "metadata": {
        "id": "o1T3dQCvJ5Bo",
        "outputId": "87f094da-8c69-488f-9d2a-ed1898b13804",
        "colab": {
          "referenced_widgets": [
            "f0375c21f31742b58aa025441d90ece4"
          ]
        }
      },
      "outputs": [
        {
          "data": {
            "application/vnd.jupyter.widget-view+json": {
              "model_id": "f0375c21f31742b58aa025441d90ece4",
              "version_major": 2,
              "version_minor": 0
            },
            "text/plain": [
              "Canvas(toolbar=Toolbar(toolitems=[('Home', 'Reset original view', 'home', 'home'), ('Back', 'Back to previous …"
            ]
          },
          "metadata": {},
          "output_type": "display_data"
        },
        {
          "data": {
            "text/plain": [
              "<lab_utils_backprop.plt_network at 0x7fcc751bc350>"
            ]
          },
          "execution_count": 2,
          "metadata": {},
          "output_type": "execute_result"
        }
      ],
      "source": [
        "plt.close(\"all\")\n",
        "plt_network(config_nw0, \"./images/C2_W2_BP_network0.PNG\")"
      ],
      "id": "o1T3dQCvJ5Bo"
    },
    {
      "cell_type": "markdown",
      "metadata": {
        "id": "MwBB_W1SJ5Bo"
      },
      "source": [
        "Above, you can see we broke the expression into two nodes which we can work on independently. If you already have a good understanding of the process from the lecture, you can go ahead and fill in the boxes in the diagram above. You will want to first fill in the blue boxes going left to right and then fill in the green boxes starting on the right and moving to the left.\n",
        "If you have the correct values, the values will show as green or blue. If the value is incorrect, it will be red. Note, the interactive graphic is not particularly robust. If you run into trouble with the interface, run the cell above again to restart.\n",
        "\n",
        "If you are unsure of the process, we will work this example step by step below.\n",
        "\n",
        "### Forward Propagation   \n",
        "Let's calculate the values in the forward direction.\n",
        "\n",
        ">Just a note about this section. It uses global variables and reuses them as the calculation progresses. If you run cells out of order, you may get funny results. If you do, go back to this point and run them in order."
      ],
      "id": "MwBB_W1SJ5Bo"
    },
    {
      "cell_type": "code",
      "execution_count": null,
      "metadata": {
        "id": "qyBq3UO2J5Bo",
        "outputId": "8bb525cd-782e-4341-84a0-d18b28a1b848"
      },
      "outputs": [
        {
          "name": "stdout",
          "output_type": "stream",
          "text": [
            "a = 11, J = 121\n"
          ]
        }
      ],
      "source": [
        "w = 3\n",
        "a = 2+3*w\n",
        "J = a**2\n",
        "print(f\"a = {a}, J = {J}\")"
      ],
      "id": "qyBq3UO2J5Bo"
    },
    {
      "cell_type": "markdown",
      "metadata": {
        "id": "UG54la8OJ5Bp"
      },
      "source": [
        "You can fill these values in the blue boxes above."
      ],
      "id": "UG54la8OJ5Bp"
    },
    {
      "cell_type": "markdown",
      "metadata": {
        "tags": [],
        "id": "wpkkXcy3J5Bp"
      },
      "source": [
        "### Backprop\n",
        "<img align=\"left\" src=\"./images/C2_W2_BP_network0_j.PNG\"     style=\" width:100px; padding: 10px 20px; \" > Backprop is the algorithm we use to calculate derivatives. As described in the lectures, backprop starts at the right and moves to the left. The first node to consider is $J = a^2 $ and the first step is to find $\\frac{\\partial J}{\\partial a}$\n"
      ],
      "id": "wpkkXcy3J5Bp"
    },
    {
      "cell_type": "markdown",
      "metadata": {
        "id": "EEnZoft1J5Bp"
      },
      "source": [
        "### $\\frac{\\partial J}{\\partial a}$\n",
        "#### Arithmetically\n",
        "Find $\\frac{\\partial J}{\\partial a}$ by finding how $J$ changes as a result of a little change in $a$. This is described in detail in the derivatives optional lab."
      ],
      "id": "EEnZoft1J5Bp"
    },
    {
      "cell_type": "code",
      "execution_count": null,
      "metadata": {
        "id": "uqIwQcgmJ5Bp",
        "outputId": "16244338-3da3-4f2b-ed5c-31dffc89054c"
      },
      "outputs": [
        {
          "name": "stdout",
          "output_type": "stream",
          "text": [
            "J = 121, J_epsilon = 121.02200099999999, dJ_da ~= k = 22.000999999988835 \n"
          ]
        }
      ],
      "source": [
        "a_epsilon = a + 0.001       # a epsilon\n",
        "J_epsilon = a_epsilon**2    # J_epsilon\n",
        "k = (J_epsilon - J)/0.001   # difference divided by epsilon\n",
        "print(f\"J = {J}, J_epsilon = {J_epsilon}, dJ_da ~= k = {k} \")"
      ],
      "id": "uqIwQcgmJ5Bp"
    },
    {
      "cell_type": "markdown",
      "metadata": {
        "id": "y8h3_8zXJ5Bp"
      },
      "source": [
        "$\\frac{\\partial J}{\\partial a}$ is 22 which is $2\\times a$. Our result is not exactly $2 \\times a$ because our epsilon value is not infinitesimally small.\n",
        "#### Symbolically\n",
        "Now, let's use SymPy to calculate derivatives symbolically as we did in the derivatives optional lab. We will prefix the name of the variable with an 's' to indicate this is a *symbolic* variable."
      ],
      "id": "y8h3_8zXJ5Bp"
    },
    {
      "cell_type": "code",
      "execution_count": null,
      "metadata": {
        "tags": [],
        "id": "ntkOIr8NJ5Bq",
        "outputId": "6c2a2b60-70bf-46f3-ed41-5374726d9617"
      },
      "outputs": [
        {
          "data": {
            "text/latex": [
              "$\\displaystyle a^{2}$"
            ],
            "text/plain": [
              "a**2"
            ]
          },
          "execution_count": 5,
          "metadata": {},
          "output_type": "execute_result"
        }
      ],
      "source": [
        "sw,sJ,sa = symbols('w,J,a')\n",
        "sJ = sa**2\n",
        "sJ"
      ],
      "id": "ntkOIr8NJ5Bq"
    },
    {
      "cell_type": "code",
      "execution_count": null,
      "metadata": {
        "tags": [],
        "id": "OyBEyLBSJ5Bq",
        "outputId": "99bd637d-876f-4976-e424-a2fb73d31496"
      },
      "outputs": [
        {
          "data": {
            "text/latex": [
              "$\\displaystyle 121$"
            ],
            "text/plain": [
              "121"
            ]
          },
          "execution_count": 6,
          "metadata": {},
          "output_type": "execute_result"
        }
      ],
      "source": [
        "sJ.subs([(sa,a)])"
      ],
      "id": "OyBEyLBSJ5Bq"
    },
    {
      "cell_type": "code",
      "execution_count": null,
      "metadata": {
        "id": "NghldO3EJ5Bq",
        "outputId": "bcccd114-84bc-45e5-ebd6-2f8d8512489f"
      },
      "outputs": [
        {
          "data": {
            "text/latex": [
              "$\\displaystyle 2 a$"
            ],
            "text/plain": [
              "2*a"
            ]
          },
          "execution_count": 7,
          "metadata": {},
          "output_type": "execute_result"
        }
      ],
      "source": [
        "dJ_da = diff(sJ, sa)\n",
        "dJ_da"
      ],
      "id": "NghldO3EJ5Bq"
    },
    {
      "cell_type": "markdown",
      "metadata": {
        "id": "mJvBF1kHJ5Bq"
      },
      "source": [
        "So, $\\frac{\\partial J}{\\partial a} = 2a$. When $a=11$, $\\frac{\\partial J}{\\partial a} = 22$. This matches our arithmetic calculation above.\n",
        "If you have not already done so, you can go back to the diagram above and fill in the value for $\\frac{\\partial J}{\\partial a}$."
      ],
      "id": "mJvBF1kHJ5Bq"
    },
    {
      "cell_type": "markdown",
      "metadata": {
        "tags": [],
        "id": "FQgiZxI9J5Bq"
      },
      "source": [
        "### $\\frac{\\partial J}{\\partial w}$\n",
        "<img align=\"left\" src=\"./images/C2_W2_BP_network0_a.PNG\"     style=\" width:100px; padding: 10px 20px; \" >  Moving from right to left, the next value we would like to compute is $\\frac{\\partial J}{\\partial w}$. To do this, we first need to calculate $\\frac{\\partial a}{\\partial w}$ which describes how the output of this node, $a$, changes when the input $w$ changes a little bit."
      ],
      "id": "FQgiZxI9J5Bq"
    },
    {
      "cell_type": "markdown",
      "metadata": {
        "id": "QRyJnVZ0J5Bq"
      },
      "source": [
        "#### Arithmetically\n",
        "Find $\\frac{\\partial a}{\\partial w}$ by finding how $a$ changes as a result of a little change in $w$."
      ],
      "id": "QRyJnVZ0J5Bq"
    },
    {
      "cell_type": "code",
      "execution_count": null,
      "metadata": {
        "id": "YfGD1ADtJ5Bq",
        "outputId": "e6bb3537-2d9a-4598-d6ae-808cf438c59c"
      },
      "outputs": [
        {
          "name": "stdout",
          "output_type": "stream",
          "text": [
            "a = 11, a_epsilon = 11.003, da_dw ~= k = 3.0000000000001137 \n"
          ]
        }
      ],
      "source": [
        "w_epsilon = w + 0.001       # a  plus a small value, epsilon\n",
        "a_epsilon = 2 + 3*w_epsilon\n",
        "k = (a_epsilon - a)/0.001   # difference divided by epsilon\n",
        "print(f\"a = {a}, a_epsilon = {a_epsilon}, da_dw ~= k = {k} \")"
      ],
      "id": "YfGD1ADtJ5Bq"
    },
    {
      "cell_type": "markdown",
      "metadata": {
        "id": "aAMM3_znJ5Bq"
      },
      "source": [
        "Calculated arithmetically,  $\\frac{\\partial a}{\\partial w} \\approx 3$. Let's try it with SymPy."
      ],
      "id": "aAMM3_znJ5Bq"
    },
    {
      "cell_type": "code",
      "execution_count": null,
      "metadata": {
        "tags": [],
        "id": "pZ_aeMgzJ5Br",
        "outputId": "359658fa-751e-4f73-d3f4-78e1fe08d42a"
      },
      "outputs": [
        {
          "data": {
            "text/latex": [
              "$\\displaystyle 3 w + 2$"
            ],
            "text/plain": [
              "3*w + 2"
            ]
          },
          "execution_count": 9,
          "metadata": {},
          "output_type": "execute_result"
        }
      ],
      "source": [
        "sa = 2 + 3*sw\n",
        "sa"
      ],
      "id": "pZ_aeMgzJ5Br"
    },
    {
      "cell_type": "code",
      "execution_count": null,
      "metadata": {
        "id": "s_KxLYK1J5Br",
        "outputId": "e45d2b99-a8b5-46a5-c792-79deb7f61319"
      },
      "outputs": [
        {
          "data": {
            "text/latex": [
              "$\\displaystyle 3$"
            ],
            "text/plain": [
              "3"
            ]
          },
          "execution_count": 10,
          "metadata": {},
          "output_type": "execute_result"
        }
      ],
      "source": [
        "da_dw = diff(sa,sw)\n",
        "da_dw"
      ],
      "id": "s_KxLYK1J5Br"
    },
    {
      "cell_type": "markdown",
      "metadata": {
        "id": "_98h9BkKJ5Br"
      },
      "source": [
        ">The next step is the interesting part:\n",
        "> - We know that a small change in $w$ will cause $a$ to change by 3 times that amount.\n",
        "> - We know that a small change in $a$ will cause $J$ to change by $2\\times a$ times that amount. (a=11 in this example)    \n",
        " so, putting these together,\n",
        "> - We  know that a small change in $w$ will cause $J$ to change by $3 \\times 2\\times a$ times that amount.\n",
        ">\n",
        "> These cascading changes go by the name of *the chain rule*.  It can be written like this:\n",
        " $$\\frac{\\partial J}{\\partial w} = \\frac{\\partial a}{\\partial w} \\frac{\\partial J}{\\partial a} $$\n",
        "\n",
        "It's worth spending some time thinking this through if it is not clear. This is a key take-away.\n",
        "\n",
        " Let's try calculating it:\n",
        ""
      ],
      "id": "_98h9BkKJ5Br"
    },
    {
      "cell_type": "code",
      "execution_count": null,
      "metadata": {
        "id": "hJC0SE-RJ5Br",
        "outputId": "71c13d94-da7a-4274-cd3d-fac11ad3d27e"
      },
      "outputs": [
        {
          "data": {
            "text/latex": [
              "$\\displaystyle 6 a$"
            ],
            "text/plain": [
              "6*a"
            ]
          },
          "execution_count": 11,
          "metadata": {},
          "output_type": "execute_result"
        }
      ],
      "source": [
        "dJ_dw = da_dw * dJ_da\n",
        "dJ_dw"
      ],
      "id": "hJC0SE-RJ5Br"
    },
    {
      "cell_type": "markdown",
      "metadata": {
        "id": "AYu17X7IJ5Br"
      },
      "source": [
        "And $a$ is 11 in this example so $\\frac{\\partial J}{\\partial w} = 66$. We can check this arithmetically:"
      ],
      "id": "AYu17X7IJ5Br"
    },
    {
      "cell_type": "code",
      "execution_count": null,
      "metadata": {
        "id": "AZ6H2UA6J5Br",
        "outputId": "e3639887-4f0c-46fa-b101-ba782daa68a1"
      },
      "outputs": [
        {
          "name": "stdout",
          "output_type": "stream",
          "text": [
            "J = 121, J_epsilon = 121.06600900000001, dJ_dw ~= k = 66.0090000000082 \n"
          ]
        }
      ],
      "source": [
        "w_epsilon = w + 0.001\n",
        "a_epsilon = 2 + 3*w_epsilon\n",
        "J_epsilon = a_epsilon**2\n",
        "k = (J_epsilon - J)/0.001   # difference divided by epsilon\n",
        "print(f\"J = {J}, J_epsilon = {J_epsilon}, dJ_dw ~= k = {k} \")"
      ],
      "id": "AZ6H2UA6J5Br"
    },
    {
      "cell_type": "markdown",
      "metadata": {
        "id": "C8a2_WpJJ5Br"
      },
      "source": [
        "OK! You can now fill the values for  $\\frac{\\partial a}{\\partial w}$ and $\\frac{\\partial J}{\\partial w}$ in  the diagram if you have not already done so."
      ],
      "id": "C8a2_WpJJ5Br"
    },
    {
      "cell_type": "markdown",
      "metadata": {
        "id": "WgV2ed52J5Bs"
      },
      "source": [
        "**Another view**  \n",
        "One could visualize these cascading changes this way:  \n",
        "<img align=\"center\" src=\"./images/C2_W2_BP_network0_diff.PNG\"  style=\" width:500px; padding: 10px 20px; \" >  \n",
        "A small change in $w$ is multiplied by $\\frac{\\partial a}{\\partial w}$ resulting in a change that is 3 times as large. This larger change is then multiplied by $\\frac{\\partial J}{\\partial a}$ resulting in a change that is now $3 \\times 22 = 66$ times larger."
      ],
      "id": "WgV2ed52J5Bs"
    },
    {
      "cell_type": "markdown",
      "metadata": {
        "id": "TF0ux9p9J5Bs"
      },
      "source": [
        "## Computation Graph of a Simple Neural Network\n",
        "Below is a graph of the neural network used in the lecture with different values. Try and fill in the values in the boxes. Note, the interactive graphic is not particularly robust. If you run into trouble with the interface, run the cell below again to restart."
      ],
      "id": "TF0ux9p9J5Bs"
    },
    {
      "cell_type": "code",
      "execution_count": null,
      "metadata": {
        "id": "xgqD7sXAJ5Bs",
        "outputId": "8335bd2e-159e-4e48-a6b4-e50abae50700",
        "colab": {
          "referenced_widgets": [
            "a3dc53cc9f3c477db01eebff1734df3a"
          ]
        }
      },
      "outputs": [
        {
          "data": {
            "application/vnd.jupyter.widget-view+json": {
              "model_id": "a3dc53cc9f3c477db01eebff1734df3a",
              "version_major": 2,
              "version_minor": 0
            },
            "text/plain": [
              "Canvas(toolbar=Toolbar(toolitems=[('Home', 'Reset original view', 'home', 'home'), ('Back', 'Back to previous …"
            ]
          },
          "metadata": {},
          "output_type": "display_data"
        },
        {
          "data": {
            "text/plain": [
              "<lab_utils_backprop.plt_network at 0x7fcc5772b250>"
            ]
          },
          "execution_count": 13,
          "metadata": {},
          "output_type": "execute_result"
        }
      ],
      "source": [
        "plt.close(\"all\")\n",
        "plt_network(config_nw1, \"./images/C2_W2_BP_network1.PNG\")"
      ],
      "id": "xgqD7sXAJ5Bs"
    },
    {
      "cell_type": "markdown",
      "metadata": {
        "id": "0EIhJt90J5Bs"
      },
      "source": [
        "Below, we will go through the computations required to fill in the above computation graph in detail. We start with the forward path."
      ],
      "id": "0EIhJt90J5Bs"
    },
    {
      "cell_type": "markdown",
      "metadata": {
        "id": "4DyejYZlJ5Bs"
      },
      "source": [
        "### Forward propagation\n",
        "The calculations in the forward path are the ones you have recently learned for neural networks. You can compare the values below to those you calculated for the diagram above."
      ],
      "id": "4DyejYZlJ5Bs"
    },
    {
      "cell_type": "code",
      "execution_count": null,
      "metadata": {
        "id": "NC6WpOlmJ5Bs",
        "outputId": "cff84f5f-b372-4b12-e7ef-91415854da5e"
      },
      "outputs": [
        {
          "name": "stdout",
          "output_type": "stream",
          "text": [
            "J=4.5, d=3, a=4, c=-4\n"
          ]
        }
      ],
      "source": [
        "# Inputs and parameters\n",
        "x = 2\n",
        "w = -2\n",
        "b = 8\n",
        "y = 1\n",
        "# calculate per step values\n",
        "c = w * x\n",
        "a = c + b\n",
        "d = a - y\n",
        "J = d**2/2\n",
        "print(f\"J={J}, d={d}, a={a}, c={c}\")"
      ],
      "id": "NC6WpOlmJ5Bs"
    },
    {
      "cell_type": "markdown",
      "metadata": {
        "id": "BGlb2UfuJ5Bs"
      },
      "source": [
        "### Backward propagation (Backprop)\n",
        "<img align=\"left\" src=\"./images/C2_W2_BP_network1_jdsq.PNG\"     style=\" width:100px; padding: 10px 20px; \" > As described in the lectures, backprop starts at the right and moves to the left. The first node to consider is $J = \\frac{1}{2}d^2 $ and the first step is to find $\\frac{\\partial J}{\\partial d}$\n"
      ],
      "id": "BGlb2UfuJ5Bs"
    },
    {
      "cell_type": "markdown",
      "metadata": {
        "tags": [],
        "id": "6grbaVPVJ5Bs"
      },
      "source": [
        "### $\\frac{\\partial J}{\\partial d}$"
      ],
      "id": "6grbaVPVJ5Bs"
    },
    {
      "cell_type": "markdown",
      "metadata": {
        "id": "wkrpaHZTJ5Bs"
      },
      "source": [
        "#### Arithmetically\n",
        "Find $\\frac{\\partial J}{\\partial d}$ by finding how $J$ changes as a result of a little change in $d$."
      ],
      "id": "wkrpaHZTJ5Bs"
    },
    {
      "cell_type": "code",
      "execution_count": null,
      "metadata": {
        "id": "uzKGUBnCJ5Bt",
        "outputId": "3e1b6b9e-bf34-4254-e683-b4f167ddd1f4"
      },
      "outputs": [
        {
          "name": "stdout",
          "output_type": "stream",
          "text": [
            "J = 4.5, J_epsilon = 4.5030005, dJ_dd ~= k = 3.0004999999997395 \n"
          ]
        }
      ],
      "source": [
        "d_epsilon = d + 0.001\n",
        "J_epsilon = d_epsilon**2/2\n",
        "k = (J_epsilon - J)/0.001   # difference divided by epsilon\n",
        "print(f\"J = {J}, J_epsilon = {J_epsilon}, dJ_dd ~= k = {k} \")"
      ],
      "id": "uzKGUBnCJ5Bt"
    },
    {
      "cell_type": "markdown",
      "metadata": {
        "id": "NwGiued7J5Bt"
      },
      "source": [
        "$\\frac{\\partial J}{\\partial d}$ is 3, which is the value of $d$. Our result is not exactly $d$ because our epsilon value is not infinitesimally small.\n",
        "#### Symbolically\n",
        "Now, let's use SymPy to calculate derivatives symbolically, as we did in the derivatives optional lab. We will prefix the name of the variable with an 's' to indicate this is a *symbolic* variable."
      ],
      "id": "NwGiued7J5Bt"
    },
    {
      "cell_type": "code",
      "execution_count": null,
      "metadata": {
        "tags": [],
        "id": "zWYxfwUtJ5Bt",
        "outputId": "be418667-4413-4664-fceb-4886ab0f3129"
      },
      "outputs": [
        {
          "data": {
            "text/latex": [
              "$\\displaystyle \\frac{d^{2}}{2}$"
            ],
            "text/plain": [
              "d**2/2"
            ]
          },
          "execution_count": 16,
          "metadata": {},
          "output_type": "execute_result"
        }
      ],
      "source": [
        "sx,sw,sb,sy,sJ = symbols('x,w,b,y,J')\n",
        "sa, sc, sd = symbols('a,c,d')\n",
        "sJ = sd**2/2\n",
        "sJ"
      ],
      "id": "zWYxfwUtJ5Bt"
    },
    {
      "cell_type": "code",
      "execution_count": null,
      "metadata": {
        "tags": [],
        "id": "ZODZ4KDMJ5Bt",
        "outputId": "d56142dd-1553-43ce-cfa9-c165472f234e"
      },
      "outputs": [
        {
          "data": {
            "text/latex": [
              "$\\displaystyle \\frac{9}{2}$"
            ],
            "text/plain": [
              "9/2"
            ]
          },
          "execution_count": 17,
          "metadata": {},
          "output_type": "execute_result"
        }
      ],
      "source": [
        "sJ.subs([(sd,d)])"
      ],
      "id": "ZODZ4KDMJ5Bt"
    },
    {
      "cell_type": "code",
      "execution_count": null,
      "metadata": {
        "id": "L-_r6aZpJ5Bx",
        "outputId": "c0e2b432-0487-4528-8e71-9d62cd969416"
      },
      "outputs": [
        {
          "data": {
            "text/latex": [
              "$\\displaystyle d$"
            ],
            "text/plain": [
              "d"
            ]
          },
          "execution_count": 18,
          "metadata": {},
          "output_type": "execute_result"
        }
      ],
      "source": [
        "dJ_dd = diff(sJ, sd)\n",
        "dJ_dd"
      ],
      "id": "L-_r6aZpJ5Bx"
    },
    {
      "cell_type": "markdown",
      "metadata": {
        "id": "yPdPOtLRJ5Bx"
      },
      "source": [
        "So, $\\frac{\\partial J}{\\partial d}$ = d. When $d=3$, $\\frac{\\partial J}{\\partial d}$ = 3. This matches our arithmetic calculation above.\n",
        "If you have not already done so, you can go back to the diagram above and fill in the value for $\\frac{\\partial J}{\\partial d}$."
      ],
      "id": "yPdPOtLRJ5Bx"
    },
    {
      "cell_type": "markdown",
      "metadata": {
        "id": "-d_U257sJ5Bx"
      },
      "source": [
        "### $\\frac{\\partial J}{\\partial a}$\n",
        "<img align=\"left\" src=\"./images/C2_W2_BP_network1_d.PNG\"     style=\" width:100px; padding: 10px 20px; \" >  Moving from right to left, the next value we would like to compute is $\\frac{\\partial J}{\\partial a}$. To do this, we first need to calculate $\\frac{\\partial d}{\\partial a}$ which describes how the output of this node changes when the input $a$ changes a little bit. (Note, we are not interested in how the output changes when $y$ changes since $y$ is not a parameter.)"
      ],
      "id": "-d_U257sJ5Bx"
    },
    {
      "cell_type": "markdown",
      "metadata": {
        "id": "CpTfBLZtJ5Bx"
      },
      "source": [
        "#### Arithmetically\n",
        "Find $\\frac{\\partial d}{\\partial a}$ by finding how $d$ changes as a result of a little change in $a$."
      ],
      "id": "CpTfBLZtJ5Bx"
    },
    {
      "cell_type": "code",
      "execution_count": null,
      "metadata": {
        "id": "VaxYl9rVJ5Bx",
        "outputId": "924765a9-8185-4776-b754-c30cce3ba835"
      },
      "outputs": [
        {
          "name": "stdout",
          "output_type": "stream",
          "text": [
            "d = 3, d_epsilon = 3.0010000000000003, dd_da ~= k = 1.000000000000334 \n"
          ]
        }
      ],
      "source": [
        "a_epsilon = a + 0.001         # a  plus a small value\n",
        "d_epsilon = a_epsilon - y\n",
        "k = (d_epsilon - d)/0.001   # difference divided by epsilon\n",
        "print(f\"d = {d}, d_epsilon = {d_epsilon}, dd_da ~= k = {k} \")"
      ],
      "id": "VaxYl9rVJ5Bx"
    },
    {
      "cell_type": "markdown",
      "metadata": {
        "id": "TQqw9PK4J5Bx"
      },
      "source": [
        "Calculated arithmetically,  $\\frac{\\partial d}{\\partial a} \\approx 1$. Let's try it with SymPy.\n",
        "#### Symbolically"
      ],
      "id": "TQqw9PK4J5Bx"
    },
    {
      "cell_type": "code",
      "execution_count": null,
      "metadata": {
        "tags": [],
        "id": "ppA3Ju2-J5Bx",
        "outputId": "eda16232-2538-4c05-b334-bbcb0c569465"
      },
      "outputs": [
        {
          "data": {
            "text/latex": [
              "$\\displaystyle a - y$"
            ],
            "text/plain": [
              "a - y"
            ]
          },
          "execution_count": 20,
          "metadata": {},
          "output_type": "execute_result"
        }
      ],
      "source": [
        "sd = sa - sy\n",
        "sd"
      ],
      "id": "ppA3Ju2-J5Bx"
    },
    {
      "cell_type": "code",
      "execution_count": null,
      "metadata": {
        "id": "wPCLRYqzJ5Bx",
        "outputId": "a1cf091a-b7ed-4ffd-c060-0fc61f48ce17"
      },
      "outputs": [
        {
          "data": {
            "text/latex": [
              "$\\displaystyle 1$"
            ],
            "text/plain": [
              "1"
            ]
          },
          "execution_count": 21,
          "metadata": {},
          "output_type": "execute_result"
        }
      ],
      "source": [
        "dd_da = diff(sd,sa)\n",
        "dd_da"
      ],
      "id": "wPCLRYqzJ5Bx"
    },
    {
      "cell_type": "markdown",
      "metadata": {
        "id": "IleH0nzjJ5By"
      },
      "source": [
        "Calculated arithmetically,  $\\frac{\\partial d}{\\partial a}$ also equals 1.  \n",
        ">The next step is the interesting part, repeated again in this example:\n",
        "> - We know that a small change in $a$ will cause $d$ to change by 1 times that amount.\n",
        "> - We know that a small change in $d$ will cause $J$ to change by $d$ times that amount. (d=3 in this example)    \n",
        " so, putting these together,\n",
        "> - We  know that a small change in $a$ will cause $J$ to change by $1\\times d$ times that amount.\n",
        ">\n",
        ">This is again *the chain rule*.  It can be written like this:\n",
        " $$\\frac{\\partial J}{\\partial a} = \\frac{\\partial d}{\\partial a} \\frac{\\partial J}{\\partial d} $$\n",
        "\n",
        " Let's try calculating it:\n",
        ""
      ],
      "id": "IleH0nzjJ5By"
    },
    {
      "cell_type": "code",
      "execution_count": null,
      "metadata": {
        "id": "IOcx2LZCJ5By",
        "outputId": "35c93931-29a2-4a97-9a74-1b2d1197015c"
      },
      "outputs": [
        {
          "data": {
            "text/latex": [
              "$\\displaystyle d$"
            ],
            "text/plain": [
              "d"
            ]
          },
          "execution_count": 22,
          "metadata": {},
          "output_type": "execute_result"
        }
      ],
      "source": [
        "dJ_da = dd_da * dJ_dd\n",
        "dJ_da"
      ],
      "id": "IOcx2LZCJ5By"
    },
    {
      "cell_type": "markdown",
      "metadata": {
        "id": "vPnj36v9J5By"
      },
      "source": [
        "And $d$ is 3 in this example so $\\frac{\\partial J}{\\partial a} = 3$. We can check this arithmetically:"
      ],
      "id": "vPnj36v9J5By"
    },
    {
      "cell_type": "code",
      "execution_count": null,
      "metadata": {
        "id": "Fi_eU3swJ5By",
        "outputId": "6243a1c2-980c-49de-a57c-30bb3198a127"
      },
      "outputs": [
        {
          "name": "stdout",
          "output_type": "stream",
          "text": [
            "J = 4.5, J_epsilon = 4.503000500000001, dJ_da ~= k = 3.0005000000006277 \n"
          ]
        }
      ],
      "source": [
        "a_epsilon = a + 0.001\n",
        "d_epsilon = a_epsilon - y\n",
        "J_epsilon = d_epsilon**2/2\n",
        "k = (J_epsilon - J)/0.001\n",
        "print(f\"J = {J}, J_epsilon = {J_epsilon}, dJ_da ~= k = {k} \")"
      ],
      "id": "Fi_eU3swJ5By"
    },
    {
      "cell_type": "markdown",
      "metadata": {
        "id": "GgmcYnpRJ5By"
      },
      "source": [
        "OK, they match! You can now fill the values for  $\\frac{\\partial d}{\\partial a}$ and $\\frac{\\partial J}{\\partial a}$ in the diagram if you have not already done so."
      ],
      "id": "GgmcYnpRJ5By"
    },
    {
      "cell_type": "markdown",
      "metadata": {
        "tags": [],
        "id": "8B-myREwJ5By"
      },
      "source": [
        "> **The steps in backprop**   \n",
        ">Now that you have worked through several nodes, we can write down the basic method:\\\n",
        "> working right to left, for each node:\n",
        ">- calculate the local derivative(s) of the node\n",
        ">- using the chain rule, combine with the derivative of the cost with respect to the node to the right.   \n",
        "\n",
        "The 'local derivative(s)' are the derivative(s) of the output of the current node with respect to all inputs or parameters.\n",
        "\n",
        "Let's continue the job. We'll be a bit less verbose now that you are familiar with the method."
      ],
      "id": "8B-myREwJ5By"
    },
    {
      "cell_type": "markdown",
      "metadata": {
        "tags": [],
        "id": "CrG_rSXZJ5Bz"
      },
      "source": [
        "### $\\frac{\\partial J}{\\partial c}$,  $\\frac{\\partial J}{\\partial b}$\n",
        "<img align=\"left\" src=\"./images/C2_W2_BP_network1_a.PNG\"     style=\" width:100px; padding: 10px 20px; \" >The next node has two derivatives of interest. We need to calculate  $\\frac{\\partial J}{\\partial c}$ so we can propagate to the left. We also want to calculate   $\\frac{\\partial J}{\\partial b}$. Finding the derivative of the cost with respect to the parameters $w$ and $b$ is the object of backprop. We will find the local derivatives,  $\\frac{\\partial a}{\\partial c}$ and  $\\frac{\\partial a}{\\partial b}$ first and then combine those with the derivative coming from the right, $\\frac{\\partial J}{\\partial a}$."
      ],
      "id": "CrG_rSXZJ5Bz"
    },
    {
      "cell_type": "code",
      "execution_count": null,
      "metadata": {
        "id": "4qseHgPSJ5Bz",
        "outputId": "495a153a-c844-4a2c-c00f-70144db33128"
      },
      "outputs": [
        {
          "data": {
            "text/latex": [
              "$\\displaystyle b + c$"
            ],
            "text/plain": [
              "b + c"
            ]
          },
          "execution_count": 24,
          "metadata": {},
          "output_type": "execute_result"
        }
      ],
      "source": [
        "# calculate the local derivatives da_dc, da_db\n",
        "sa = sc + sb\n",
        "sa"
      ],
      "id": "4qseHgPSJ5Bz"
    },
    {
      "cell_type": "code",
      "execution_count": null,
      "metadata": {
        "id": "5l2ZuhZrJ5Bz",
        "outputId": "bac79971-e54b-42ad-b3cf-cc5699539bfe"
      },
      "outputs": [
        {
          "name": "stdout",
          "output_type": "stream",
          "text": [
            "1 1\n"
          ]
        }
      ],
      "source": [
        "da_dc = diff(sa,sc)\n",
        "da_db = diff(sa,sb)\n",
        "print(da_dc, da_db)"
      ],
      "id": "5l2ZuhZrJ5Bz"
    },
    {
      "cell_type": "code",
      "execution_count": null,
      "metadata": {
        "id": "0kVQj5VzJ5Bz",
        "outputId": "c59b58cd-c204-4c88-cd2a-61664e3ca94a"
      },
      "outputs": [
        {
          "name": "stdout",
          "output_type": "stream",
          "text": [
            "dJ_dc = d,  dJ_db = d\n"
          ]
        }
      ],
      "source": [
        "dJ_dc = da_dc * dJ_da\n",
        "dJ_db = da_db * dJ_da\n",
        "print(f\"dJ_dc = {dJ_dc},  dJ_db = {dJ_db}\")"
      ],
      "id": "0kVQj5VzJ5Bz"
    },
    {
      "cell_type": "markdown",
      "metadata": {
        "id": "paarZC9xJ5Bz"
      },
      "source": [
        "And in our example, d = 3"
      ],
      "id": "paarZC9xJ5Bz"
    },
    {
      "cell_type": "markdown",
      "metadata": {
        "tags": [],
        "id": "n2khJsb_J5Bz"
      },
      "source": [
        "###  $\\frac{\\partial J}{\\partial w}$\n",
        "<img align=\"left\" src=\"./images/C2_W2_BP_network1_c.PNG\"     style=\" width:100px; padding: 10px 20px; \" > The last node in this example calculates `c`. Here, we are interested in how J changes with respect to the parameter w. We will not back propagate to the input $x$, so we are not interested in $\\frac{\\partial J}{\\partial x}$. Let's start by calculating $\\frac{\\partial c}{\\partial w}$."
      ],
      "id": "n2khJsb_J5Bz"
    },
    {
      "cell_type": "code",
      "execution_count": null,
      "metadata": {
        "id": "trmMK7YeJ5Bz",
        "outputId": "911817c9-bdec-433c-d008-eb75a6a405b5"
      },
      "outputs": [
        {
          "data": {
            "text/latex": [
              "$\\displaystyle w x$"
            ],
            "text/plain": [
              "w*x"
            ]
          },
          "execution_count": 27,
          "metadata": {},
          "output_type": "execute_result"
        }
      ],
      "source": [
        "# calculate the local derivative\n",
        "sc = sw * sx\n",
        "sc"
      ],
      "id": "trmMK7YeJ5Bz"
    },
    {
      "cell_type": "code",
      "execution_count": null,
      "metadata": {
        "id": "-fFrKqpQJ5Bz",
        "outputId": "60654e30-79ce-4b37-ee28-79f93f08c570"
      },
      "outputs": [
        {
          "data": {
            "text/latex": [
              "$\\displaystyle x$"
            ],
            "text/plain": [
              "x"
            ]
          },
          "execution_count": 28,
          "metadata": {},
          "output_type": "execute_result"
        }
      ],
      "source": [
        "dc_dw = diff(sc,sw)\n",
        "dc_dw"
      ],
      "id": "-fFrKqpQJ5Bz"
    },
    {
      "cell_type": "markdown",
      "metadata": {
        "id": "GC5ikQ0pJ5B0"
      },
      "source": [
        "This derivative is a bit more exciting than the last one. This will vary depending on the value of $x$. This is 2 in our example.\n",
        "\n",
        "Combine this with $\\frac{\\partial J}{\\partial c}$ to find $\\frac{\\partial J}{\\partial w}$."
      ],
      "id": "GC5ikQ0pJ5B0"
    },
    {
      "cell_type": "code",
      "execution_count": null,
      "metadata": {
        "id": "q7UVV4jNJ5B0",
        "outputId": "e047adc7-3fa7-40b9-936f-a8db7d95b0df"
      },
      "outputs": [
        {
          "data": {
            "text/latex": [
              "$\\displaystyle d x$"
            ],
            "text/plain": [
              "d*x"
            ]
          },
          "execution_count": 29,
          "metadata": {},
          "output_type": "execute_result"
        }
      ],
      "source": [
        "dJ_dw = dc_dw * dJ_dc\n",
        "dJ_dw"
      ],
      "id": "q7UVV4jNJ5B0"
    },
    {
      "cell_type": "code",
      "execution_count": null,
      "metadata": {
        "id": "EDTQMd6lJ5B0",
        "outputId": "f4d691e8-3faf-4044-ba43-016b45086dce"
      },
      "outputs": [
        {
          "name": "stdout",
          "output_type": "stream",
          "text": [
            "dJ_dw = 2*d\n"
          ]
        }
      ],
      "source": [
        "print(f\"dJ_dw = {dJ_dw.subs([(sd,d),(sx,x)])}\")"
      ],
      "id": "EDTQMd6lJ5B0"
    },
    {
      "cell_type": "markdown",
      "metadata": {
        "id": "CZOVpnmmJ5B0"
      },
      "source": [
        "$d=3$,  so $\\frac{\\partial J}{\\partial w} = 6$ for our example.   \n",
        "Let's test this arithmetically:"
      ],
      "id": "CZOVpnmmJ5B0"
    },
    {
      "cell_type": "code",
      "execution_count": null,
      "metadata": {
        "id": "tpWfGFF8J5B0",
        "outputId": "78c93f2b-c9ff-4266-caba-810cb3589a8f"
      },
      "outputs": [
        {
          "name": "stdout",
          "output_type": "stream",
          "text": [
            "J = 4.5, J_epsilon = 4.506002, dJ_dw ~= k = 6.001999999999619 \n"
          ]
        }
      ],
      "source": [
        "J_epsilon = ((w+0.001)*x+b - y)**2/2\n",
        "k = (J_epsilon - J)/0.001\n",
        "print(f\"J = {J}, J_epsilon = {J_epsilon}, dJ_dw ~= k = {k} \")"
      ],
      "id": "tpWfGFF8J5B0"
    },
    {
      "cell_type": "markdown",
      "metadata": {
        "id": "C7V3QJZUJ5B0"
      },
      "source": [
        "They match! Great. You can add $\\frac{\\partial J}{\\partial w}$ to the diagram above and our analysis is complete."
      ],
      "id": "C7V3QJZUJ5B0"
    },
    {
      "cell_type": "markdown",
      "metadata": {
        "id": "QxUJSJTrJ5B0"
      },
      "source": [
        "## Congratulations!\n",
        "You've worked through an example of back propagation using a computation graph. You can apply this to larger examples by following the same node by node approach."
      ],
      "id": "QxUJSJTrJ5B0"
    },
    {
      "cell_type": "code",
      "execution_count": null,
      "metadata": {
        "id": "liKneyesJ5B0"
      },
      "outputs": [],
      "source": [],
      "id": "liKneyesJ5B0"
    }
  ],
  "metadata": {
    "kernelspec": {
      "display_name": "Python 3",
      "language": "python",
      "name": "python3"
    },
    "language_info": {
      "codemirror_mode": {
        "name": "ipython",
        "version": 3
      },
      "file_extension": ".py",
      "mimetype": "text/x-python",
      "name": "python",
      "nbconvert_exporter": "python",
      "pygments_lexer": "ipython3",
      "version": "3.7.6"
    },
    "colab": {
      "provenance": [],
      "include_colab_link": true
    }
  },
  "nbformat": 4,
  "nbformat_minor": 5
}