{
  "cells": [
    {
      "cell_type": "markdown",
      "metadata": {
        "id": "view-in-github",
        "colab_type": "text"
      },
      "source": [
        "<a href=\"https://colab.research.google.com/github/Nilvalox/AIML/blob/main/Derivatives.ipynb\" target=\"_parent\"><img src=\"https://colab.research.google.com/assets/colab-badge.svg\" alt=\"Open In Colab\"/></a>"
      ]
    },
    {
      "cell_type": "markdown",
      "metadata": {
        "tags": [],
        "id": "1ruWYME1Hq8Z"
      },
      "source": [
        "# Optional Lab - Derivatives\n",
        "This lab will give you a more intuitive understanding of derivatives. It will show you a simple way of calculating derivatives arithmetically. It will also introduce you to a handy Python library that allows you to calculate derivatives symbolically."
      ],
      "id": "1ruWYME1Hq8Z"
    },
    {
      "cell_type": "code",
      "execution_count": null,
      "metadata": {
        "id": "Mio11r2hHq8b"
      },
      "outputs": [],
      "source": [
        "from sympy import symbols, diff"
      ],
      "id": "Mio11r2hHq8b"
    },
    {
      "cell_type": "markdown",
      "metadata": {
        "id": "d_MF_6jYHq8c"
      },
      "source": [
        "## Informal definition of derivatives"
      ],
      "id": "d_MF_6jYHq8c"
    },
    {
      "cell_type": "markdown",
      "metadata": {
        "id": "CFCOH_v0Hq8c"
      },
      "source": [
        "The formal definition of derivatives can be a bit daunting with limits and values 'going to zero'. The idea is really much simpler.\n",
        "\n",
        "The derivative of a function describes how the output of a function changes when there is a small change in an input variable.\n",
        "\n",
        "Let's use the cost function $J(w)$ as an example. The cost $J$ is the output and $w$ is the input variable.  \n",
        "Let's give a 'small change' a name *epsilon* or $\\epsilon$. We use these Greek letters because it is traditional in mathematics to use *epsilon*($\\epsilon$) or *delta* ($\\Delta$) to represent a small value. You can think of it as representing 0.001 or some other small value.  \n",
        "\n",
        "$$\n",
        "\\begin{equation}\n",
        "\\text{if } w \\uparrow \\epsilon \\text{ causes }J(w) \\uparrow \\text{by }k \\times \\epsilon \\text{ then}  \\\\\n",
        "\\frac{\\partial J(w)}{\\partial w} = k \\tag{1}\n",
        "\\end{equation}\n",
        "$$\n",
        "\n",
        "This just says if you change the input to the function $J(w)$ by a little bit and the output changes by $k$ times that little bit, then the derivative of $J(w)$ is equal to $k$.\n",
        "\n",
        "Let's try this out.  Let's look at the derivative of the function $J(w) = w^2$ at the point $w=3$ and $\\epsilon = 0.001$"
      ],
      "id": "CFCOH_v0Hq8c"
    },
    {
      "cell_type": "code",
      "execution_count": null,
      "metadata": {
        "id": "9BHv-_NQHq8c",
        "outputId": "0c2d9e9a-a393-4cbe-8fa1-fa8faf5d30d2"
      },
      "outputs": [
        {
          "name": "stdout",
          "output_type": "stream",
          "text": [
            "J = 9, J_epsilon = 9.006001, dJ_dw ~= k = 6.001000 \n"
          ]
        }
      ],
      "source": [
        "J = (3)**2\n",
        "J_epsilon = (3 + 0.001)**2\n",
        "k = (J_epsilon - J)/0.001    # difference divided by epsilon\n",
        "print(f\"J = {J}, J_epsilon = {J_epsilon}, dJ_dw ~= k = {k:0.6f} \")"
      ],
      "id": "9BHv-_NQHq8c"
    },
    {
      "cell_type": "markdown",
      "metadata": {
        "id": "tgzwCnbdHq8d"
      },
      "source": [
        "We have increased the input value a little bit (0.001), causing the output to change from 9 to 9.006001, an increase of 6 times the input increase. Referencing (1) above, this says that $k=6$, so $\\frac{\\partial J(w)}{\\partial w} \\approx 6$. If you are familiar with calculus, you know, written symbolically,  $\\frac{\\partial J(w)}{\\partial w} = 2 w$. With $w=3$ this is 6. Our calculation above is not exactly 6 because to be exactly correct $\\epsilon$ would need to be [infinitesimally small](https://www.dictionary.com/browse/infinitesimally) or really, really small. That is why we use the symbols $\\approx$ or ~= rather than =. Let's see what happens if we make $\\epsilon$ smaller."
      ],
      "id": "tgzwCnbdHq8d"
    },
    {
      "cell_type": "code",
      "execution_count": null,
      "metadata": {
        "id": "WeR4oDuYHq8d",
        "outputId": "d216d563-51d6-49c3-9667-a07df2ef3b93"
      },
      "outputs": [
        {
          "name": "stdout",
          "output_type": "stream",
          "text": [
            "J = 9, J_epsilon = 9.000000006, dJ_dw ~= k = 6.000000496442226 \n"
          ]
        }
      ],
      "source": [
        "J = (3)**2\n",
        "J_epsilon = (3 + 0.000000001)**2\n",
        "k = (J_epsilon - J)/0.000000001\n",
        "print(f\"J = {J}, J_epsilon = {J_epsilon}, dJ_dw ~= k = {k} \")"
      ],
      "id": "WeR4oDuYHq8d"
    },
    {
      "cell_type": "markdown",
      "metadata": {
        "id": "gJP0wuJlHq8e"
      },
      "source": [
        "The value gets close to exactly 6 as we reduce the size of $\\epsilon$. Feel free to try reducing the value further."
      ],
      "id": "gJP0wuJlHq8e"
    },
    {
      "cell_type": "markdown",
      "metadata": {
        "id": "A5iRVMGEHq8e"
      },
      "source": [
        "## Finding symbolic derivatives\n",
        "In backprop it is useful to know the derivative of simple functions at any input value. Put another way, we would like to know the 'symbolic' derivative rather than the 'arithmetic' derivative. An example of a symbolic derivative is,  $\\frac{\\partial J(w)}{\\partial w} = 2 w$, the derivative of $J(w) = w^2$ above.  With the symbolic derivative you can find the value of the derivative at any input value $w$.  \n",
        "\n",
        "If you have taken a calculus course, you are familiar with the many [differentiation rules](https://en.wikipedia.org/wiki/Differentiation_rules#Power_laws,_polynomials,_quotients,_and_reciprocals) that mathematicians have developed to solve for a derivative given an expression. Well, it turns out this process has been automated with symbolic differentiation programs. An example of this in python is the [SymPy](https://www.sympy.org/en/index.html) library. Let's take a look at how to use this."
      ],
      "id": "A5iRVMGEHq8e"
    },
    {
      "cell_type": "markdown",
      "metadata": {
        "id": "t6glOlyNHq8e"
      },
      "source": [
        "### $J = w^2$\n",
        "Define the python variables and their symbolic names."
      ],
      "id": "t6glOlyNHq8e"
    },
    {
      "cell_type": "code",
      "execution_count": null,
      "metadata": {
        "id": "zN4BuAltHq8e"
      },
      "outputs": [],
      "source": [
        "J, w = symbols('J, w')"
      ],
      "id": "zN4BuAltHq8e"
    },
    {
      "cell_type": "markdown",
      "metadata": {
        "id": "20dABo-7Hq8e"
      },
      "source": [
        "Define and print the expression. Note SymPy produces a [latex](https://en.wikibooks.org/wiki/LaTeX/Mathematics) string which generates a nicely readable equation."
      ],
      "id": "20dABo-7Hq8e"
    },
    {
      "cell_type": "code",
      "execution_count": null,
      "metadata": {
        "id": "dokA8hk5Hq8f",
        "outputId": "252660c5-c3c9-4cb6-ab8f-091909a9b776"
      },
      "outputs": [
        {
          "data": {
            "text/latex": [
              "$\\displaystyle w^{2}$"
            ],
            "text/plain": [
              "w**2"
            ]
          },
          "execution_count": 5,
          "metadata": {},
          "output_type": "execute_result"
        }
      ],
      "source": [
        "J=w**2\n",
        "J"
      ],
      "id": "dokA8hk5Hq8f"
    },
    {
      "cell_type": "markdown",
      "metadata": {
        "id": "kNxu4hCkHq8f"
      },
      "source": [
        "Use SymPy's `diff` to differentiate the expression for $J$ with respect to $w$. Note the result matches our earlier example."
      ],
      "id": "kNxu4hCkHq8f"
    },
    {
      "cell_type": "code",
      "execution_count": null,
      "metadata": {
        "id": "xxZ60ypqHq8f",
        "outputId": "ab3286d9-c423-4aa4-d683-5192581b0c97"
      },
      "outputs": [
        {
          "data": {
            "text/latex": [
              "$\\displaystyle 2 w$"
            ],
            "text/plain": [
              "2*w"
            ]
          },
          "execution_count": 6,
          "metadata": {},
          "output_type": "execute_result"
        }
      ],
      "source": [
        "dJ_dw = diff(J,w)\n",
        "dJ_dw"
      ],
      "id": "xxZ60ypqHq8f"
    },
    {
      "cell_type": "markdown",
      "metadata": {
        "id": "1NYUxfw9Hq8f"
      },
      "source": [
        "Evaluate the derivative at a few points by 'substituting' numeric values for the symbolic values. In the first example, $w$ is replaced by $2$."
      ],
      "id": "1NYUxfw9Hq8f"
    },
    {
      "cell_type": "code",
      "execution_count": null,
      "metadata": {
        "id": "coeKLCEVHq8f",
        "outputId": "3b17e913-770a-44cc-c2cd-5a6788219d70"
      },
      "outputs": [
        {
          "data": {
            "text/latex": [
              "$\\displaystyle 4$"
            ],
            "text/plain": [
              "4"
            ]
          },
          "execution_count": 7,
          "metadata": {},
          "output_type": "execute_result"
        }
      ],
      "source": [
        "dJ_dw.subs([(w,2)])    # derivative at the point w = 2"
      ],
      "id": "coeKLCEVHq8f"
    },
    {
      "cell_type": "code",
      "execution_count": null,
      "metadata": {
        "scrolled": true,
        "id": "wrqOgZfJHq8f",
        "outputId": "edec4ef5-7d0a-491a-901b-498ecf87a090"
      },
      "outputs": [
        {
          "data": {
            "text/latex": [
              "$\\displaystyle 6$"
            ],
            "text/plain": [
              "6"
            ]
          },
          "execution_count": 8,
          "metadata": {},
          "output_type": "execute_result"
        }
      ],
      "source": [
        "dJ_dw.subs([(w,3)])    # derivative at the point w = 3"
      ],
      "id": "wrqOgZfJHq8f"
    },
    {
      "cell_type": "code",
      "execution_count": null,
      "metadata": {
        "id": "yHunKkRzHq8f",
        "outputId": "6d6fd066-fe28-4032-892e-75e92fcb0544"
      },
      "outputs": [
        {
          "data": {
            "text/latex": [
              "$\\displaystyle -6$"
            ],
            "text/plain": [
              "-6"
            ]
          },
          "execution_count": 9,
          "metadata": {},
          "output_type": "execute_result"
        }
      ],
      "source": [
        "dJ_dw.subs([(w,-3)])    # derivative at the point w = -3"
      ],
      "id": "yHunKkRzHq8f"
    },
    {
      "cell_type": "markdown",
      "metadata": {
        "id": "0LPbTG7LHq8g"
      },
      "source": [
        "## $J = 2w$"
      ],
      "id": "0LPbTG7LHq8g"
    },
    {
      "cell_type": "code",
      "execution_count": null,
      "metadata": {
        "tags": [],
        "id": "3QZY1u1tHq8g"
      },
      "outputs": [],
      "source": [
        "w, J = symbols('w, J')"
      ],
      "id": "3QZY1u1tHq8g"
    },
    {
      "cell_type": "code",
      "execution_count": null,
      "metadata": {
        "id": "JNbGXs8_Hq8g",
        "outputId": "ea0ff267-e0af-4986-d3a4-f67e5209984e"
      },
      "outputs": [
        {
          "data": {
            "text/latex": [
              "$\\displaystyle 2 w$"
            ],
            "text/plain": [
              "2*w"
            ]
          },
          "execution_count": 11,
          "metadata": {},
          "output_type": "execute_result"
        }
      ],
      "source": [
        "J = 2 * w\n",
        "J"
      ],
      "id": "JNbGXs8_Hq8g"
    },
    {
      "cell_type": "code",
      "execution_count": null,
      "metadata": {
        "tags": [],
        "id": "z8XmY1ubHq8g",
        "outputId": "d19d141d-d16e-4bc6-b9b6-a3bef96b31af"
      },
      "outputs": [
        {
          "data": {
            "text/latex": [
              "$\\displaystyle 2$"
            ],
            "text/plain": [
              "2"
            ]
          },
          "execution_count": 12,
          "metadata": {},
          "output_type": "execute_result"
        }
      ],
      "source": [
        "dJ_dw = diff(J,w)\n",
        "dJ_dw"
      ],
      "id": "z8XmY1ubHq8g"
    },
    {
      "cell_type": "code",
      "execution_count": null,
      "metadata": {
        "id": "3k-25UN7Hq8g",
        "outputId": "f26c86de-1912-4aa8-8cc3-39afc972dd1e"
      },
      "outputs": [
        {
          "data": {
            "text/latex": [
              "$\\displaystyle 2$"
            ],
            "text/plain": [
              "2"
            ]
          },
          "execution_count": 13,
          "metadata": {},
          "output_type": "execute_result"
        }
      ],
      "source": [
        "dJ_dw.subs([(w,-3)])    # derivative at the point w = -3"
      ],
      "id": "3k-25UN7Hq8g"
    },
    {
      "cell_type": "markdown",
      "metadata": {
        "id": "uDmdTThuHq8g"
      },
      "source": [
        "Compare this with the arithmetic calculation"
      ],
      "id": "uDmdTThuHq8g"
    },
    {
      "cell_type": "code",
      "execution_count": null,
      "metadata": {
        "id": "SUK50ndxHq8g",
        "outputId": "1c68f7db-a035-4dee-c3a4-faef1a57986b"
      },
      "outputs": [
        {
          "name": "stdout",
          "output_type": "stream",
          "text": [
            "J = 6, J_epsilon = 6.002, dJ_dw ~= k = 1.9999999999997797 \n"
          ]
        }
      ],
      "source": [
        "J = 2*3\n",
        "J_epsilon = 2*(3 + 0.001)\n",
        "k = (J_epsilon - J)/0.001\n",
        "print(f\"J = {J}, J_epsilon = {J_epsilon}, dJ_dw ~= k = {k} \")"
      ],
      "id": "SUK50ndxHq8g"
    },
    {
      "cell_type": "markdown",
      "metadata": {
        "id": "omEaQHwGHq8h"
      },
      "source": [
        "For the function $J=2w$, it is easy to see that any change in $w$ will result in 2 times that amount of change in the output $J$, regardless of the starting value of $w$. Our NumPy and arithmetic results confirm this."
      ],
      "id": "omEaQHwGHq8h"
    },
    {
      "cell_type": "markdown",
      "metadata": {
        "id": "rsTWb2BMHq8h"
      },
      "source": [
        "## $J = w^3$"
      ],
      "id": "rsTWb2BMHq8h"
    },
    {
      "cell_type": "code",
      "execution_count": null,
      "metadata": {
        "id": "Wntss5XjHq8h"
      },
      "outputs": [],
      "source": [
        "J, w = symbols('J, w')"
      ],
      "id": "Wntss5XjHq8h"
    },
    {
      "cell_type": "code",
      "execution_count": null,
      "metadata": {
        "id": "B9_9YCK3Hq8h",
        "outputId": "a20c8feb-2639-4fe3-f806-c8a7bfdeb73a"
      },
      "outputs": [
        {
          "data": {
            "text/latex": [
              "$\\displaystyle w^{3}$"
            ],
            "text/plain": [
              "w**3"
            ]
          },
          "execution_count": 16,
          "metadata": {},
          "output_type": "execute_result"
        }
      ],
      "source": [
        "J=w**3\n",
        "J"
      ],
      "id": "B9_9YCK3Hq8h"
    },
    {
      "cell_type": "code",
      "execution_count": null,
      "metadata": {
        "id": "XEaSb56IHq8h",
        "outputId": "9981e85b-615a-4366-d621-fd97584bd68d"
      },
      "outputs": [
        {
          "data": {
            "text/latex": [
              "$\\displaystyle 3 w^{2}$"
            ],
            "text/plain": [
              "3*w**2"
            ]
          },
          "execution_count": 17,
          "metadata": {},
          "output_type": "execute_result"
        }
      ],
      "source": [
        "dJ_dw = diff(J,w)\n",
        "dJ_dw"
      ],
      "id": "XEaSb56IHq8h"
    },
    {
      "cell_type": "code",
      "execution_count": null,
      "metadata": {
        "id": "O4Po9BH5Hq8h",
        "outputId": "7878675b-2a5c-4d13-ff1a-c58860b95215"
      },
      "outputs": [
        {
          "data": {
            "text/latex": [
              "$\\displaystyle 12$"
            ],
            "text/plain": [
              "12"
            ]
          },
          "execution_count": 18,
          "metadata": {},
          "output_type": "execute_result"
        }
      ],
      "source": [
        "dJ_dw.subs([(w,2)])   # derivative at the point w=2"
      ],
      "id": "O4Po9BH5Hq8h"
    },
    {
      "cell_type": "markdown",
      "metadata": {
        "id": "1zlTEOP6Hq8h"
      },
      "source": [
        "Compare this with the arithmetic calculation"
      ],
      "id": "1zlTEOP6Hq8h"
    },
    {
      "cell_type": "code",
      "execution_count": null,
      "metadata": {
        "id": "EF2iS1HaHq8i",
        "outputId": "3265043f-40d0-4587-e2ea-ab3e20288711"
      },
      "outputs": [
        {
          "name": "stdout",
          "output_type": "stream",
          "text": [
            "J = 8, J_epsilon = 8.012006000999998, dJ_dw ~= k = 12.006000999997823 \n"
          ]
        }
      ],
      "source": [
        "J = (2)**3\n",
        "J_epsilon = (2+0.001)**3\n",
        "k = (J_epsilon - J)/0.001\n",
        "print(f\"J = {J}, J_epsilon = {J_epsilon}, dJ_dw ~= k = {k} \")"
      ],
      "id": "EF2iS1HaHq8i"
    },
    {
      "cell_type": "markdown",
      "metadata": {
        "id": "rvpxidBiHq8i"
      },
      "source": [
        "## $J = \\frac{1}{w}$"
      ],
      "id": "rvpxidBiHq8i"
    },
    {
      "cell_type": "code",
      "execution_count": null,
      "metadata": {
        "id": "WgXQAAmzHq8i"
      },
      "outputs": [],
      "source": [
        "J, w = symbols('J, w')"
      ],
      "id": "WgXQAAmzHq8i"
    },
    {
      "cell_type": "code",
      "execution_count": null,
      "metadata": {
        "id": "-KLtdOnOHq8i",
        "outputId": "e59f65e9-fa77-411b-fd85-d7d05cef4f25"
      },
      "outputs": [
        {
          "data": {
            "text/latex": [
              "$\\displaystyle \\frac{1}{w}$"
            ],
            "text/plain": [
              "1/w"
            ]
          },
          "execution_count": 21,
          "metadata": {},
          "output_type": "execute_result"
        }
      ],
      "source": [
        "J= 1/w\n",
        "J"
      ],
      "id": "-KLtdOnOHq8i"
    },
    {
      "cell_type": "code",
      "execution_count": null,
      "metadata": {
        "id": "eFqnGBTdHq8i",
        "outputId": "a58b3151-5a20-493d-e1ac-6ad1896bd8b0"
      },
      "outputs": [
        {
          "data": {
            "text/latex": [
              "$\\displaystyle - \\frac{1}{w^{2}}$"
            ],
            "text/plain": [
              "-1/w**2"
            ]
          },
          "execution_count": 22,
          "metadata": {},
          "output_type": "execute_result"
        }
      ],
      "source": [
        "dJ_dw = diff(J,w)\n",
        "dJ_dw"
      ],
      "id": "eFqnGBTdHq8i"
    },
    {
      "cell_type": "code",
      "execution_count": null,
      "metadata": {
        "id": "iNnr_yo2Hq8i",
        "outputId": "eb6d393d-adfc-45c5-96fa-fd0a90450de7"
      },
      "outputs": [
        {
          "data": {
            "text/latex": [
              "$\\displaystyle - \\frac{1}{4}$"
            ],
            "text/plain": [
              "-1/4"
            ]
          },
          "execution_count": 23,
          "metadata": {},
          "output_type": "execute_result"
        }
      ],
      "source": [
        "dJ_dw.subs([(w,2)])"
      ],
      "id": "iNnr_yo2Hq8i"
    },
    {
      "cell_type": "markdown",
      "metadata": {
        "id": "pYaCGVYKHq8m"
      },
      "source": [
        "Compare this with the arithmetic calculation"
      ],
      "id": "pYaCGVYKHq8m"
    },
    {
      "cell_type": "code",
      "execution_count": null,
      "metadata": {
        "id": "LCkb0vKzHq8m",
        "outputId": "3253ce56-6cf0-4191-f6ff-9c3a7e2339f5"
      },
      "outputs": [
        {
          "name": "stdout",
          "output_type": "stream",
          "text": [
            "J = 0.5, J_epsilon = 0.49975012493753124, dJ_dw ~= k = -0.2498750624687629 \n"
          ]
        }
      ],
      "source": [
        "J = 1/2\n",
        "J_epsilon = 1/(2+0.001)\n",
        "k = (J_epsilon - J)/0.001\n",
        "print(f\"J = {J}, J_epsilon = {J_epsilon}, dJ_dw ~= k = {k} \")"
      ],
      "id": "LCkb0vKzHq8m"
    },
    {
      "cell_type": "markdown",
      "metadata": {
        "id": "SH7FdN3tHq8m"
      },
      "source": [
        "## $J = \\frac{1}{w^2}$"
      ],
      "id": "SH7FdN3tHq8m"
    },
    {
      "cell_type": "code",
      "execution_count": null,
      "metadata": {
        "id": "xDiC0gwCHq8m"
      },
      "outputs": [],
      "source": [
        "J, w = symbols('J, w')"
      ],
      "id": "xDiC0gwCHq8m"
    },
    {
      "cell_type": "markdown",
      "metadata": {
        "id": "sxjh8E0FHq8m"
      },
      "source": [
        "If you have time, try to repeat the above steps on the function  $J = \\frac{1}{w^2}$ and evaluate at w=4"
      ],
      "id": "sxjh8E0FHq8m"
    },
    {
      "cell_type": "code",
      "execution_count": null,
      "metadata": {
        "id": "_uoaf75UHq8m",
        "outputId": "851b66df-9bf3-457d-cf99-8a30fbafab08"
      },
      "outputs": [
        {
          "data": {
            "text/latex": [
              "$\\displaystyle - \\frac{1}{32}$"
            ],
            "text/plain": [
              "-1/32"
            ]
          },
          "execution_count": 26,
          "metadata": {},
          "output_type": "execute_result"
        }
      ],
      "source": [
        "J= 1/w**2\n",
        "dJ_dw = diff(J,w)\n",
        "dJ_dw.subs([(w,4)])"
      ],
      "id": "_uoaf75UHq8m"
    },
    {
      "cell_type": "code",
      "execution_count": null,
      "metadata": {
        "id": "c9N9B626Hq8m"
      },
      "outputs": [],
      "source": [],
      "id": "c9N9B626Hq8m"
    },
    {
      "cell_type": "code",
      "execution_count": null,
      "metadata": {
        "id": "HqoclnK1Hq8m"
      },
      "outputs": [],
      "source": [],
      "id": "HqoclnK1Hq8m"
    },
    {
      "cell_type": "markdown",
      "metadata": {
        "id": "TyoEoAvnHq8n"
      },
      "source": [
        "Compare this with the arithmetic calculation"
      ],
      "id": "TyoEoAvnHq8n"
    },
    {
      "cell_type": "code",
      "execution_count": null,
      "metadata": {
        "id": "UMPg-PYAHq8n",
        "outputId": "8cc73efc-5428-45f9-ee10-072a3baece6b"
      },
      "outputs": [
        {
          "name": "stdout",
          "output_type": "stream",
          "text": [
            "J = 0.0625, J_epsilon = 0.06246876171484496, dJ_dw ~= k = -0.031238285155041345 \n"
          ]
        }
      ],
      "source": [
        "J = 1/4**2\n",
        "J_epsilon = 1/(4+0.001)**2\n",
        "k = (J_epsilon - J)/0.001\n",
        "print(f\"J = {J}, J_epsilon = {J_epsilon}, dJ_dw ~= k = {k} \")"
      ],
      "id": "UMPg-PYAHq8n"
    },
    {
      "cell_type": "markdown",
      "metadata": {
        "id": "MJCspsHkHq8n"
      },
      "source": [
        "<details>\n",
        "  <summary><font size=\"3\" color=\"darkgreen\"><b>Click for hints</b></font></summary>\n",
        "    \n",
        "```python\n",
        "J= 1/w**2\n",
        "dJ_dw = diff(J,w)\n",
        "dJ_dw.subs([(w,4)])\n",
        "```\n",
        "  \n",
        "\n",
        "</details>\n",
        "\n",
        "    \n"
      ],
      "id": "MJCspsHkHq8n"
    },
    {
      "cell_type": "markdown",
      "metadata": {
        "id": "wv96IaMWHq8n"
      },
      "source": [
        "## Congratulations!\n",
        "If you have run through the above examples, you understand a derivative describes the change in the output of a function that is a result of a small change in an input to that function. You also can use *SymPy* in python to find the symbolic derivative of functions."
      ],
      "id": "wv96IaMWHq8n"
    },
    {
      "cell_type": "code",
      "execution_count": null,
      "metadata": {
        "id": "cDBtWh9hHq8n"
      },
      "outputs": [],
      "source": [],
      "id": "cDBtWh9hHq8n"
    }
  ],
  "metadata": {
    "kernelspec": {
      "display_name": "Python 3",
      "language": "python",
      "name": "python3"
    },
    "language_info": {
      "codemirror_mode": {
        "name": "ipython",
        "version": 3
      },
      "file_extension": ".py",
      "mimetype": "text/x-python",
      "name": "python",
      "nbconvert_exporter": "python",
      "pygments_lexer": "ipython3",
      "version": "3.7.6"
    },
    "colab": {
      "provenance": [],
      "include_colab_link": true
    }
  },
  "nbformat": 4,
  "nbformat_minor": 5
}